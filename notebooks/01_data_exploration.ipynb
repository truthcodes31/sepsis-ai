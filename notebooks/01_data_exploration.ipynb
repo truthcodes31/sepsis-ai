{
 "cells": [
  {
   "cell_type": "code",
   "execution_count": null,
   "metadata": {
    "vscode": {
     "languageId": "plaintext"
    }
   },
   "outputs": [],
   "source": [
    "import pandas as pd\n",
    "import matplotlib.pyplot as plt\n",
    "import seaborn as sns\n",
    "\n",
    "# Load dataset\n",
    "df = pd.read_csv(\"data/raw/sepsis_data.csv\")\n",
    "\n",
    "# Display basic info and first few rows\n",
    "print(df.info())\n",
    "display(df.head())\n",
    "\n",
    "# Check for missing values\n",
    "missing_values = df.isnull().sum()\n",
    "print(\"Missing values per column:\\n\", missing_values)\n",
    "\n",
    "# Visualize missing values\n",
    "plt.figure(figsize=(10,6))\n",
    "sns.heatmap(df.isnull(), cmap='viridis', cbar=False)\n",
    "plt.title(\"Missing Values Heatmap\")\n",
    "plt.show()\n",
    "\n",
    "# Describe statistical properties of data\n",
    "print(df.describe())\n",
    "\n",
    "# Feature distributions\n",
    "plt.figure(figsize=(12,6))\n",
    "df.hist(bins=50, figsize=(12,8))\n",
    "plt.suptitle(\"Feature Distributions\")\n",
    "plt.show()\n",
    "\n",
    "print(\"Data Exploration Completed!\")\n"
   ]
  }
 ],
 "metadata": {
  "language_info": {
   "name": "python"
  }
 },
 "nbformat": 4,
 "nbformat_minor": 2
}
